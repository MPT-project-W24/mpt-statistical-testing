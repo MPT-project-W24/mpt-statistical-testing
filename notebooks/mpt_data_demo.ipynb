{
 "cells": [
  {
   "cell_type": "code",
   "execution_count": 1,
   "metadata": {},
   "outputs": [],
   "source": [
    "import pandas as pd\n",
    "import numpy as np\n",
    "import matplotlib.pyplot as plt\n",
    "from os import listdir, getcwd, chdir\n",
    "from os.path import isfile, join\n",
    "import json"
   ]
  },
  {
   "cell_type": "code",
   "execution_count": 36,
   "metadata": {},
   "outputs": [],
   "source": [
    "# Paths to where I store the data on my computer\n",
    "msd_data_path = '/Users/nelsschimek/Documents/nancelab/Data/msd_data_age/'\n",
    "feature_data_path = '/Users/nelsschimek/Documents/nancelab/Data/feature_data_age/'\n",
    "\n",
    "json_filepath = '/Users/nelsschimek/Documents/becklab/mpt-statistical-testing/15_models_10_percent.json'"
   ]
  },
  {
   "cell_type": "code",
   "execution_count": 22,
   "metadata": {},
   "outputs": [
    {
     "name": "stdout",
     "output_type": "stream",
     "text": [
      "74\n",
      "75\n"
     ]
    }
   ],
   "source": [
    "msd_files = [f for f in listdir(msd_data_path) if isfile(join(msd_data_path, f)) and '.csv' in f]\n",
    "feature_files = [f for f in listdir(feature_data_path) if isfile(join(feature_data_path, f)) and '.csv' in f]\n",
    "print(len(msd_files))\n",
    "print(len(feature_files))"
   ]
  },
  {
   "cell_type": "code",
   "execution_count": 41,
   "metadata": {},
   "outputs": [],
   "source": [
    "# Load the json file\n",
    "\n",
    "f1 = open(json_filepath, 'r')\n",
    "json_data = json.load(f1)\n",
    "f1.close()"
   ]
  },
  {
   "cell_type": "code",
   "execution_count": 45,
   "metadata": {},
   "outputs": [
    {
     "name": "stdout",
     "output_type": "stream",
     "text": [
      "75\n",
      "/features_P14_40nm_s1_v1.csv\n",
      "/features_P14_40nm_s1_v2.csv\n",
      "/features_P14_40nm_s1_v3.csv\n",
      "/features_P14_40nm_s1_v4.csv\n",
      "/features_P14_40nm_s1_v5.csv\n",
      "/features_P14_40nm_s2_v1.csv\n",
      "/features_P14_40nm_s2_v2.csv\n",
      "/features_P14_40nm_s2_v3.csv\n",
      "/features_P14_40nm_s2_v4.csv\n",
      "/features_P14_40nm_s2_v5.csv\n",
      "/features_P14_40nm_s3_v1.csv\n",
      "/features_P14_40nm_s3_v2.csv\n",
      "/features_P14_40nm_s3_v3.csv\n",
      "/features_P14_40nm_s3_v4.csv\n",
      "/features_P14_40nm_s3_v5.csv\n",
      "/features_P21_40nm_s1_v1.csv\n",
      "/features_P21_40nm_s1_v2.csv\n",
      "/features_P21_40nm_s1_v3.csv\n",
      "/features_P21_40nm_s1_v4.csv\n",
      "/features_P21_40nm_s1_v5.csv\n",
      "/features_P21_40nm_s2_v1.csv\n",
      "/features_P21_40nm_s2_v2.csv\n",
      "/features_P21_40nm_s2_v3.csv\n",
      "/features_P21_40nm_s2_v4.csv\n",
      "/features_P21_40nm_s2_v5.csv\n",
      "/features_P21_40nm_s3_v1.csv\n",
      "/features_P21_40nm_s3_v2.csv\n",
      "/features_P21_40nm_s3_v3.csv\n",
      "/features_P21_40nm_s3_v4.csv\n",
      "/features_P21_40nm_s3_v5.csv\n",
      "/features_P28_40nm_s1_v1.csv\n",
      "/features_P28_40nm_s1_v2.csv\n",
      "/features_P28_40nm_s1_v3.csv\n",
      "/features_P28_40nm_s1_v4.csv\n",
      "/features_P28_40nm_s1_v5.csv\n",
      "/features_P28_40nm_s2_v1.csv\n",
      "/features_P28_40nm_s2_v2.csv\n",
      "/features_P28_40nm_s2_v3.csv\n",
      "/features_P28_40nm_s2_v4.csv\n",
      "/features_P28_40nm_s2_v5.csv\n",
      "/features_P28_40nm_s3_v1.csv\n",
      "/features_P28_40nm_s3_v2.csv\n",
      "/features_P28_40nm_s3_v3.csv\n",
      "/features_P28_40nm_s3_v4.csv\n",
      "/features_P28_40nm_s3_v5.csv\n",
      "/features_P35_brain_2_slice_1_vid_1.csv\n",
      "/features_P35_brain_2_slice_1_vid_2.csv\n",
      "/features_P35_brain_2_slice_1_vid_3.csv\n",
      "/features_P35_brain_2_slice_1_vid_4.csv\n",
      "/features_P35_brain_2_slice_1_vid_5.csv\n",
      "/features_P35_brain_2_slice_2_vid_1.csv\n",
      "/features_P35_brain_2_slice_2_vid_2.csv\n",
      "/features_P35_brain_2_slice_2_vid_3.csv\n",
      "/features_P35_brain_2_slice_2_vid_4.csv\n",
      "/features_P35_brain_2_slice_2_vid_5.csv\n",
      "/features_P35_brain_2_slice_3_vid_1.csv\n",
      "/features_P35_brain_2_slice_3_vid_2.csv\n",
      "/features_P35_brain_2_slice_3_vid_3.csv\n",
      "/features_P35_brain_2_slice_3_vid_4.csv\n",
      "/features_P35_brain_2_slice_3_vid_5.csv\n",
      "/features_P70_40nm_s1_v1.csv\n",
      "/features_P70_40nm_s1_v2.csv\n",
      "/features_P70_40nm_s1_v3.csv\n",
      "/features_P70_40nm_s1_v4.csv\n",
      "/features_P70_40nm_s1_v5.csv\n",
      "/features_P70_40nm_s2_v1.csv\n",
      "/features_P70_40nm_s2_v2.csv\n",
      "/features_P70_40nm_s2_v3.csv\n",
      "/features_P70_40nm_s2_v4.csv\n",
      "/features_P70_40nm_s2_v5.csv\n",
      "/features_P70_40nm_s3_v1.csv\n",
      "/features_P70_40nm_s3_v2.csv\n",
      "/features_P70_40nm_s3_v3.csv\n",
      "/features_P70_40nm_s3_v4.csv\n",
      "/features_P70_40nm_s3_v5.csv\n"
     ]
    }
   ],
   "source": [
    "#check the keys\n",
    "print(len(json_data.keys()))\n",
    "for key in json_data.keys():\n",
    "    print(key)"
   ]
  },
  {
   "cell_type": "code",
   "execution_count": 23,
   "metadata": {},
   "outputs": [],
   "source": [
    "# Below is a list of features that we typically use in our analysis. Frames is commented out as it is not a statistical or geometric feature of the trajectory\n",
    "# However it could be interesting to see if the number of frames a track spans is related to data quality.\n",
    "feature_list = [\n",
    "    'alpha', # Fitted anomalous diffusion alpha exponenet\n",
    "    'D_fit', # Fitted anomalous diffusion coefficient\n",
    "    'kurtosis', # Kurtosis of track\n",
    "    'asymmetry1', # Asymmetry of trajecory (0 for circular symmetric, 1 for linear)\n",
    "    'asymmetry2', # Ratio of the smaller to larger principal radius of gyration\n",
    "    'asymmetry3', # An asymmetric feature that accnts for non-cylindrically symmetric pt distributions\n",
    "    'AR', # Aspect ratio of long and short side of trajectory's minimum bounding rectangle\n",
    "    'elongation', # Est. of amount of extension of trajectory from centroid\n",
    "    'boundedness', # How much a particle with Deff is restricted by a circular confinement of radius r\n",
    "    'fractal_dim', # Measure of how complicated a self similar figure is\n",
    "    'trappedness', # Probability that a particle with Deff is trapped in a region\n",
    "    'efficiency', # Ratio of squared net displacement to the sum of squared step lengths\n",
    "    'straightness', # Ratio of net displacement to the sum of squared step lengths\n",
    "    'MSD_ratio', # MSD ratio of the track\n",
    "#     'frames', # Number of frames the track spans\n",
    "    'Deff1', # Effective diffusion coefficient at 0.33 s\n",
    "    'Deff2', # Effective diffusion coefficient at 3.3 s\n",
    "    'Mean alpha', \n",
    "    'Mean D_fit', \n",
    "    'Mean kurtosis', \n",
    "    'Mean asymmetry1', \n",
    "    'Mean asymmetry2',\n",
    "    'Mean asymmetry3', \n",
    "    'Mean AR',\n",
    "    'Mean elongation', \n",
    "    'Mean boundedness',\n",
    "    'Mean fractal_dim', \n",
    "    'Mean trappedness', \n",
    "    'Mean efficiency',\n",
    "    'Mean straightness', \n",
    "    'Mean MSD_ratio', \n",
    "    'Mean Deff1', \n",
    "    'Mean Deff2',\n",
    "    ]"
   ]
  },
  {
   "cell_type": "markdown",
   "metadata": {},
   "source": [
    "#### Ok, lets read in a feature file and make sure it lines up with the json data"
   ]
  },
  {
   "cell_type": "code",
   "execution_count": 49,
   "metadata": {},
   "outputs": [
    {
     "name": "stdout",
     "output_type": "stream",
     "text": [
      "(817, 92)\n"
     ]
    }
   ],
   "source": [
    "#load the data\n",
    "features_p35_s3_v3 = pd.read_csv(feature_data_path + 'features_P35_brain_2_slice_3_vid_3.csv')\n",
    "print(features_p35_s3_v3.shape)"
   ]
  },
  {
   "cell_type": "code",
   "execution_count": 55,
   "metadata": {},
   "outputs": [
    {
     "data": {
      "text/plain": [
       "683"
      ]
     },
     "execution_count": 55,
     "metadata": {},
     "output_type": "execute_result"
    }
   ],
   "source": [
    "quality_p35_s3_v3 = json_data['/features_P35_brain_2_slice_3_vid_3.csv']\n",
    "len(quality_p35_s3_v3)"
   ]
  },
  {
   "cell_type": "markdown",
   "metadata": {},
   "source": [
    "#### First issue - the json file has a different number of tracks than the feature file. This is likely because the feature file has been filtered to remove tracks have NAs in them. Lets remove NAs and compare again\n"
   ]
  },
  {
   "cell_type": "code",
   "execution_count": 57,
   "metadata": {},
   "outputs": [
    {
     "data": {
      "text/plain": [
       "(683, 36)"
      ]
     },
     "execution_count": 57,
     "metadata": {},
     "output_type": "execute_result"
    }
   ],
   "source": [
    "p35_s3_v3_filtered = features_p35_s3_v3[feature_list + ['Track_ID', 'X', 'Y', 'frames']]\n",
    "removed_nans = p35_s3_v3_filtered[~p35_s3_v3_filtered[list(set(feature_list) - set(['Deff2', 'Mean Deff2']))].isin([np.nan, np.inf, -np.inf]).any(1)]\n",
    "removed_nans.shape"
   ]
  },
  {
   "cell_type": "markdown",
   "metadata": {},
   "source": [
    "#### Both now have 683 - perfect! That line of code to remove nans is what always happened before putting the data into an ML model when the quality metric was being estimated. "
   ]
  },
  {
   "cell_type": "markdown",
   "metadata": {},
   "source": []
  }
 ],
 "metadata": {
  "kernelspec": {
   "display_name": "diff_predictor_env",
   "language": "python",
   "name": "python3"
  },
  "language_info": {
   "codemirror_mode": {
    "name": "ipython",
    "version": 3
   },
   "file_extension": ".py",
   "mimetype": "text/x-python",
   "name": "python",
   "nbconvert_exporter": "python",
   "pygments_lexer": "ipython3",
   "version": "3.8.0"
  }
 },
 "nbformat": 4,
 "nbformat_minor": 2
}
