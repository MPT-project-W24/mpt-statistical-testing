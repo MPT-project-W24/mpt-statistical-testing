{
 "cells": [
  {
   "cell_type": "code",
   "execution_count": null,
   "id": "03b961d3-78c4-4e7e-b5f1-00c4141d9442",
   "metadata": {},
   "outputs": [],
   "source": [
    "iyufugfyfy"
   ]
  }
 ],
 "metadata": {
  "kernelspec": {
   "display_name": "Python 3 (ipykernel)",
   "language": "python",
   "name": "python3"
  },
  "language_info": {
   "codemirror_mode": {
    "name": "ipython",
    "version": 3
   },
   "file_extension": ".py",
   "mimetype": "text/x-python",
   "name": "python",
   "nbconvert_exporter": "python",
   "pygments_lexer": "ipython3",
   "version": "3.11.5"
  }
 },
 "nbformat": 4,
 "nbformat_minor": 5
}
