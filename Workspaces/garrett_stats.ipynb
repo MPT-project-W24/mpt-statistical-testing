{
 "cells": [
  {
   "cell_type": "markdown",
   "id": "78e998af-c82a-494f-bde4-735f4003cc9f",
   "metadata": {},
   "source": [
    "Import packages"
   ]
  },
  {
   "cell_type": "code",
   "execution_count": null,
   "id": "2f3bdcc7-f67e-40bb-990d-33fbfc3697c1",
   "metadata": {},
   "outputs": [],
   "source": [
    "import pandas as pd\n",
    "import numpy as np\n",
    "import scipy as sc\n",
    "import matplotlib.pyplot as plt\n",
    "import seaborn as sns\n",
    "import sklearn as skl\n",
    "from os import listdir, getcwd, chdir\n",
    "from os.path import isfile, join"
   ]
  },
  {
   "cell_type": "markdown",
   "id": "565c7469-ccd0-43f5-9a21-fb1ccd435715",
   "metadata": {},
   "source": [
    "Load selected data in"
   ]
  },
  {
   "cell_type": "code",
   "execution_count": null,
   "id": "bb513a9f-eaca-44f0-886b-95b176131cf4",
   "metadata": {},
   "outputs": [],
   "source": [
    "# grab the all file names from the data directory/folder\n",
    "features_data_path = \"/home/gmcp/mpt-statistical-testing/features_data/\"\n",
    "feature_files = [f for f in listdir(features_data_path) if isfile(join(features_data_path, f)) and '.csv' in f and \"P\" in f]\n",
    "#print(len(feature_files))\n",
    "#print(feature_files)"
   ]
  },
  {
   "cell_type": "code",
   "execution_count": null,
   "id": "b7610041-9e96-4cf2-b85a-53bba82a5c8b",
   "metadata": {},
   "outputs": [],
   "source": [
    "def read_feature_files(files_list, pathname):\n",
    "    \n",
    "    features_dataframes = {}\n",
    "    for file in files_list:\n",
    "        features_dataframes[file] = pd.read_csv(pathname+file)\n",
    "    return features_dataframes"
   ]
  },
  {
   "cell_type": "code",
   "execution_count": null,
   "id": "6398ae9e-730a-4df9-8672-b031c4787c3d",
   "metadata": {},
   "outputs": [],
   "source": [
    "#read_feature_files(feature_files, features_data_path)"
   ]
  },
  {
   "cell_type": "markdown",
   "id": "1c5017bf-627a-4493-8b41-0ef15c397196",
   "metadata": {},
   "source": [
    "Functions to do pairwise Pearson Correlation"
   ]
  },
  {
   "cell_type": "code",
   "execution_count": null,
   "id": "755c8530-bc7c-4e43-817c-553a89a27f8e",
   "metadata": {},
   "outputs": [],
   "source": [
    "# Pearson correlation\n",
    "def corr_rowi_rowj(row_i, row_j):\n",
    "    \"\"\"Pearson correlation between row_i and row_j\"\"\"\n",
    "    if row_i.any() == False or row_j.any() == False:\n",
    "        raise Exception(\"A row is zeros and does not work with .corr\")\n",
    "    corr_ij = row_i.corr(row_j)\n",
    "    return corr_ij\n",
    "    \n",
    "\n",
    "def corr_rowi_vs_all(row_i, dataframe):\n",
    "    \"\"\"Vector of Pearson correlations for each row against row_i\"\"\"\n",
    "    corr_to_i = []\n",
    "    for j, row_j in dataframe.iterrows():\n",
    "        corr_to_i.append(corr_rowi_rowj(row_i,row_j))\n",
    "    return corr_to_i\n",
    "     \n",
    "def pairwise_correlation(dataframe):\n",
    "    \"\"\"Pairwise Pearson correlation of all rows, plus conversion back to dataframe\"\"\" \n",
    "    corr_all = []\n",
    "    for i, row_i in dataframe.iterrows():\n",
    "        corr_all.append( corr_rowi_vs_all(row_i, dataframe) )\n",
    "    corr_df = pd.DataFrame(\n",
    "        np.array(corr_all), # corr_all needs to convert to Numpy array from list\n",
    "        index=dataframe.index,\n",
    "        columns=dataframe.index)\n",
    "    return corr_df"
   ]
  },
  {
   "cell_type": "markdown",
   "id": "176104a8-5f1f-475b-9a38-3448fce039a6",
   "metadata": {},
   "source": [
    "Function to pull descriptive statistics from one or more features of a single dataframe"
   ]
  },
  {
   "cell_type": "code",
   "execution_count": null,
   "id": "9478a672-b760-4575-baec-c557edf85e3c",
   "metadata": {},
   "outputs": [],
   "source": [
    "def feature_descriptive_statistics(dataframe, features):\n",
    "    \"\"\"\n",
    "    This function pulls the descriptive statistics from given features. Input the features as a string(s).\n",
    "    Can use \"all_features\" to run descriptive statistics on all features without needing to make a long list of names.\n",
    "    Quantiles are disabled automatically. To use, make separate variables for each desired quantile and append.\n",
    "    \"\"\"\n",
    "    feat_descriptive_statistics = []\n",
    "    if features == \"all_features\":\n",
    "        features = dataframe.columns.tolist()\n",
    "        # need to add method to remove Unnamed:0 and ID\n",
    "        for feature in features:\n",
    "            feat_stats = []\n",
    "            feat_mean = dataframe[feature].mean();feat_stats.append(feat_mean)\n",
    "            feat_median = dataframe[feature].median();feat_stats.append(feat_median)\n",
    "            feat_max = dataframe[feature].max();feat_stats.append(feat_max)\n",
    "            feat_min = dataframe[feature].min();feat_stats.append(feat_min)\n",
    "            #feat_quantile1, feat_quantile2 = dataframe[feature].quantile([0.25, 0.75])\n",
    "            #feat_stats.append(feat_quantile1,feat_quantile2)\n",
    "            feat_var = dataframe[feature].var();feat_stats.append(feat_var)\n",
    "            feat_std = dataframe[feature].std();feat_stats.append(feat_std)\n",
    "            feat_descriptive_statistics.append(feat_stats)\n",
    "    else:\n",
    "        for feature in features:\n",
    "            feat_stats = []\n",
    "            feat_mean = dataframe[feature].mean()\n",
    "            feat_stats.append(feat_mean)\n",
    "            feat_median = dataframe[feature].median()\n",
    "            feat_stats.append(feat_median)\n",
    "            feat_max = dataframe[feature].max()\n",
    "            feat_stats.append(feat_max)\n",
    "            feat_min = dataframe[feature].min()\n",
    "            feat_stats.append(feat_min)\n",
    "            #feat_quantiles = dataframe[feature].quantile([0.25, 0.75])\n",
    "            #feat_stats.append(feat_quantiles)\n",
    "            feat_var = dataframe[feature].var()\n",
    "            feat_stats.append(feat_var)\n",
    "            feat_std = dataframe[feature].std()\n",
    "            feat_stats.append(feat_std)\n",
    "            feat_descriptive_statistics.append(feat_stats)\n",
    "    stat_names = [\"mean\", \"median\", \"maximum\", \"minimum\",\n",
    "                  \"variance\", \"standard deviation\"] \n",
    "    feat_descriptive_statistics_df = pd.DataFrame(\n",
    "        np.array(feat_descriptive_statistics),\n",
    "        index=features,\n",
    "        columns=stat_names)\n",
    "    return feat_descriptive_statistics_df"
   ]
  },
  {
   "cell_type": "code",
   "execution_count": null,
   "id": "205a246a-bf80-4448-abad-1db106e5e0cb",
   "metadata": {},
   "outputs": [],
   "source": [
    "dummyFeatures_df1 = pd.read_csv(\"../features_data/features_P14_40nm_s2_v2.csv\").iloc[10:20]\n",
    "dummyFeatures_df1.head(10)"
   ]
  },
  {
   "cell_type": "code",
   "execution_count": null,
   "id": "04b2cc13-9156-4c26-bd17-4df9402c3508",
   "metadata": {},
   "outputs": [],
   "source": [
    "feature_descriptive_statistics(dummyFeatures_df1,[\"alpha\",\"asymmetry3\"])"
   ]
  },
  {
   "cell_type": "code",
   "execution_count": null,
   "id": "ddf3b878-955e-4c1e-833b-3af677951368",
   "metadata": {},
   "outputs": [],
   "source": [
    "feature_descriptive_statistics(dummyFeatures_df1,\"all_features\")"
   ]
  },
  {
   "cell_type": "markdown",
   "id": "9e308797-c208-42b0-99fd-427797dccc44",
   "metadata": {},
   "source": []
  },
  {
   "cell_type": "code",
   "execution_count": null,
   "id": "89fa0c09-6c59-4784-b13f-9f556180f8fc",
   "metadata": {},
   "outputs": [],
   "source": [
    "def multi_df_feat_descriptive_statistics(dataframes, features):\n",
    "\"\"\"\n",
    "This function takes an input dictionary of dataframes and a list of features to automatically run multiple dataframes through\n",
    "the feature descriptive statistics, returning a dictionary with the same keys. \n",
    "For running statistics on all features use \"all_features\".\n",
    "\"\"\"\n",
    "    dfs_descriptive_statistics = {}\n",
    "    for key in dataframes:\n",
    "        dfs_descriptive_statistics[key] = feature_descriptive_statistics(dataframes[key],features)\n",
    "    return dfs_descriptive_statistics"
   ]
  },
  {
   "cell_type": "code",
   "execution_count": null,
   "id": "a398d8f1-6a3b-444c-be92-18181d991886",
   "metadata": {},
   "outputs": [],
   "source": []
  },
  {
   "cell_type": "code",
   "execution_count": null,
   "id": "4c02dd98-bfa5-4eee-9f96-57a6a6ccae64",
   "metadata": {},
   "outputs": [],
   "source": [
    "# X numbers of std away from mean\n",
    "def feature_outliers(dataframe, features):\n",
    "    \n",
    "    for feature in features:\n",
    "        feat_mean = dataframe[feature].mean()\n",
    "        feat_std = dataframe[feature].std()\n",
    "        for i, row_i in dataframe.iterrows():\n",
    "            outlier_3std_above = [row_i[feature] for row_i[feature] in dataframe if row_i[feature] >= feat_mean+(3*feat_std)]\n",
    "            outlier_3std_below = [row_i[feature] for row_i[feature] in dataframe if row_i[feature] <= feat_mean+(3*feat_std)]\n",
    "            \n",
    "    return "
   ]
  },
  {
   "cell_type": "code",
   "execution_count": null,
   "id": "f8e03a1a-23d8-4379-a875-9f25119c0815",
   "metadata": {},
   "outputs": [],
   "source": []
  },
  {
   "cell_type": "code",
   "execution_count": null,
   "id": "5d5c9473-ed2a-4cca-8d9f-eb6eb4af8b18",
   "metadata": {},
   "outputs": [],
   "source": [
    "# KNN clustering\n",
    "def feature_KNN_clustering(dataframe):\n",
    "    "
   ]
  },
  {
   "cell_type": "code",
   "execution_count": null,
   "id": "6f1dbee0-0097-408b-9bde-e600f640e1cd",
   "metadata": {},
   "outputs": [],
   "source": []
  },
  {
   "cell_type": "code",
   "execution_count": null,
   "id": "a27ed4ec-ad88-40e8-92f7-0f3c1eed446a",
   "metadata": {},
   "outputs": [],
   "source": []
  }
 ],
 "metadata": {
  "kernelspec": {
   "display_name": "Python 3 (ipykernel)",
   "language": "python",
   "name": "python3"
  },
  "language_info": {
   "codemirror_mode": {
    "name": "ipython",
    "version": 3
   },
   "file_extension": ".py",
   "mimetype": "text/x-python",
   "name": "python",
   "nbconvert_exporter": "python",
   "pygments_lexer": "ipython3",
   "version": "3.11.5"
  }
 },
 "nbformat": 4,
 "nbformat_minor": 5
}
