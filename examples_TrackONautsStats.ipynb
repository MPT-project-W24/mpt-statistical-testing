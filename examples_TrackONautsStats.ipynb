{
 "cells": [
  {
   "cell_type": "code",
   "execution_count": 1,
   "id": "abbe54d9-d183-484d-ac45-8e15815172dc",
   "metadata": {},
   "outputs": [],
   "source": [
    "import pandas as pd\n",
    "\n",
    "from track_o_nauts import TrackONautsStats\n",
    "\n",
    "\n",
    "example_dataframe1 = pd.DataFrame([[-1,0,1,0,0],[1,0,-1,0,1],[0.5,0.5,0.5,0,7],\n",
    "                                    [1,1,1,-1,1],[-1,3,4,0,4],[0.33,8,4,3,-1]],\n",
    "                                    columns=[\"alpha\",\"D_fit\",\"asymmetry1\",\"Deff1\",\"AR\"])\n",
    "example_dataframe2 = pd.DataFrame([[-1,0,1,0,2],[1,0,-1,1,6],[0.3,0.5,0.5,0,7],\n",
    "                                    [1,1,1,-1,1],[-1,3,5,2,4],[0.33,8,4,3,-2]],\n",
    "                                    columns=[\"alpha\",\"D_fit\",\"asymmetry1\",\"Deff1\",\"AR\"])\n",
    "dataframe_dict = {\"example1\" : example_dataframe1, \"example2\" : example_dataframe2}"
   ]
  },
  {
   "cell_type": "code",
   "execution_count": null,
   "id": "45b77b50-3a2e-4e85-9715-fba303526dde",
   "metadata": {},
   "outputs": [],
   "source": [
    "isinstance("
   ]
  },
  {
   "cell_type": "code",
   "execution_count": 2,
   "id": "2f2c413e-01bd-4efe-b451-4a10734817ec",
   "metadata": {},
   "outputs": [
    {
     "data": {
      "text/html": [
       "<div>\n",
       "<style scoped>\n",
       "    .dataframe tbody tr th:only-of-type {\n",
       "        vertical-align: middle;\n",
       "    }\n",
       "\n",
       "    .dataframe tbody tr th {\n",
       "        vertical-align: top;\n",
       "    }\n",
       "\n",
       "    .dataframe thead th {\n",
       "        text-align: right;\n",
       "    }\n",
       "</style>\n",
       "<table border=\"1\" class=\"dataframe\">\n",
       "  <thead>\n",
       "    <tr style=\"text-align: right;\">\n",
       "      <th></th>\n",
       "      <th>alpha</th>\n",
       "      <th>D_fit</th>\n",
       "      <th>asymmetry1</th>\n",
       "      <th>Deff1</th>\n",
       "      <th>AR</th>\n",
       "    </tr>\n",
       "  </thead>\n",
       "  <tbody>\n",
       "    <tr>\n",
       "      <th>0</th>\n",
       "      <td>-1.00</td>\n",
       "      <td>0.0</td>\n",
       "      <td>1.0</td>\n",
       "      <td>0</td>\n",
       "      <td>0</td>\n",
       "    </tr>\n",
       "    <tr>\n",
       "      <th>1</th>\n",
       "      <td>1.00</td>\n",
       "      <td>0.0</td>\n",
       "      <td>-1.0</td>\n",
       "      <td>0</td>\n",
       "      <td>1</td>\n",
       "    </tr>\n",
       "    <tr>\n",
       "      <th>2</th>\n",
       "      <td>0.50</td>\n",
       "      <td>0.5</td>\n",
       "      <td>0.5</td>\n",
       "      <td>0</td>\n",
       "      <td>7</td>\n",
       "    </tr>\n",
       "    <tr>\n",
       "      <th>3</th>\n",
       "      <td>1.00</td>\n",
       "      <td>1.0</td>\n",
       "      <td>1.0</td>\n",
       "      <td>-1</td>\n",
       "      <td>1</td>\n",
       "    </tr>\n",
       "    <tr>\n",
       "      <th>4</th>\n",
       "      <td>-1.00</td>\n",
       "      <td>3.0</td>\n",
       "      <td>4.0</td>\n",
       "      <td>0</td>\n",
       "      <td>4</td>\n",
       "    </tr>\n",
       "    <tr>\n",
       "      <th>5</th>\n",
       "      <td>0.33</td>\n",
       "      <td>8.0</td>\n",
       "      <td>4.0</td>\n",
       "      <td>3</td>\n",
       "      <td>-1</td>\n",
       "    </tr>\n",
       "  </tbody>\n",
       "</table>\n",
       "</div>"
      ],
      "text/plain": [
       "   alpha  D_fit  asymmetry1  Deff1  AR\n",
       "0  -1.00    0.0         1.0      0   0\n",
       "1   1.00    0.0        -1.0      0   1\n",
       "2   0.50    0.5         0.5      0   7\n",
       "3   1.00    1.0         1.0     -1   1\n",
       "4  -1.00    3.0         4.0      0   4\n",
       "5   0.33    8.0         4.0      3  -1"
      ]
     },
     "execution_count": 2,
     "metadata": {},
     "output_type": "execute_result"
    }
   ],
   "source": [
    "example_dataframe1.head(6)"
   ]
  },
  {
   "cell_type": "code",
   "execution_count": 3,
   "id": "6d2f02c3-7d66-47b4-886f-7db3a71d8b92",
   "metadata": {},
   "outputs": [
    {
     "data": {
      "text/html": [
       "<div>\n",
       "<style scoped>\n",
       "    .dataframe tbody tr th:only-of-type {\n",
       "        vertical-align: middle;\n",
       "    }\n",
       "\n",
       "    .dataframe tbody tr th {\n",
       "        vertical-align: top;\n",
       "    }\n",
       "\n",
       "    .dataframe thead th {\n",
       "        text-align: right;\n",
       "    }\n",
       "</style>\n",
       "<table border=\"1\" class=\"dataframe\">\n",
       "  <thead>\n",
       "    <tr style=\"text-align: right;\">\n",
       "      <th></th>\n",
       "      <th>alpha</th>\n",
       "      <th>D_fit</th>\n",
       "      <th>asymmetry1</th>\n",
       "      <th>Deff1</th>\n",
       "      <th>AR</th>\n",
       "    </tr>\n",
       "  </thead>\n",
       "  <tbody>\n",
       "    <tr>\n",
       "      <th>0</th>\n",
       "      <td>-1.00</td>\n",
       "      <td>0.0</td>\n",
       "      <td>1.0</td>\n",
       "      <td>0</td>\n",
       "      <td>2</td>\n",
       "    </tr>\n",
       "    <tr>\n",
       "      <th>1</th>\n",
       "      <td>1.00</td>\n",
       "      <td>0.0</td>\n",
       "      <td>-1.0</td>\n",
       "      <td>1</td>\n",
       "      <td>6</td>\n",
       "    </tr>\n",
       "    <tr>\n",
       "      <th>2</th>\n",
       "      <td>0.30</td>\n",
       "      <td>0.5</td>\n",
       "      <td>0.5</td>\n",
       "      <td>0</td>\n",
       "      <td>7</td>\n",
       "    </tr>\n",
       "    <tr>\n",
       "      <th>3</th>\n",
       "      <td>1.00</td>\n",
       "      <td>1.0</td>\n",
       "      <td>1.0</td>\n",
       "      <td>-1</td>\n",
       "      <td>1</td>\n",
       "    </tr>\n",
       "    <tr>\n",
       "      <th>4</th>\n",
       "      <td>-1.00</td>\n",
       "      <td>3.0</td>\n",
       "      <td>5.0</td>\n",
       "      <td>2</td>\n",
       "      <td>4</td>\n",
       "    </tr>\n",
       "    <tr>\n",
       "      <th>5</th>\n",
       "      <td>0.33</td>\n",
       "      <td>8.0</td>\n",
       "      <td>4.0</td>\n",
       "      <td>3</td>\n",
       "      <td>-2</td>\n",
       "    </tr>\n",
       "  </tbody>\n",
       "</table>\n",
       "</div>"
      ],
      "text/plain": [
       "   alpha  D_fit  asymmetry1  Deff1  AR\n",
       "0  -1.00    0.0         1.0      0   2\n",
       "1   1.00    0.0        -1.0      1   6\n",
       "2   0.30    0.5         0.5      0   7\n",
       "3   1.00    1.0         1.0     -1   1\n",
       "4  -1.00    3.0         5.0      2   4\n",
       "5   0.33    8.0         4.0      3  -2"
      ]
     },
     "execution_count": 3,
     "metadata": {},
     "output_type": "execute_result"
    }
   ],
   "source": [
    "example_dataframe2.head(6)"
   ]
  },
  {
   "cell_type": "code",
   "execution_count": 4,
   "id": "dfbe9565-649d-4dc1-ab83-53c44e5606da",
   "metadata": {},
   "outputs": [
    {
     "data": {
      "text/html": [
       "<div>\n",
       "<style scoped>\n",
       "    .dataframe tbody tr th:only-of-type {\n",
       "        vertical-align: middle;\n",
       "    }\n",
       "\n",
       "    .dataframe tbody tr th {\n",
       "        vertical-align: top;\n",
       "    }\n",
       "\n",
       "    .dataframe thead th {\n",
       "        text-align: right;\n",
       "    }\n",
       "</style>\n",
       "<table border=\"1\" class=\"dataframe\">\n",
       "  <thead>\n",
       "    <tr style=\"text-align: right;\">\n",
       "      <th></th>\n",
       "      <th>0</th>\n",
       "      <th>1</th>\n",
       "      <th>2</th>\n",
       "      <th>3</th>\n",
       "      <th>4</th>\n",
       "      <th>5</th>\n",
       "    </tr>\n",
       "  </thead>\n",
       "  <tbody>\n",
       "    <tr>\n",
       "      <th>0</th>\n",
       "      <td>1.000000</td>\n",
       "      <td>-0.845154</td>\n",
       "      <td>0.000000</td>\n",
       "      <td>0.000000</td>\n",
       "      <td>0.753778</td>\n",
       "      <td>0.370578</td>\n",
       "    </tr>\n",
       "    <tr>\n",
       "      <th>1</th>\n",
       "      <td>-0.845154</td>\n",
       "      <td>1.000000</td>\n",
       "      <td>0.533101</td>\n",
       "      <td>0.133631</td>\n",
       "      <td>-0.382235</td>\n",
       "      <td>-0.643118</td>\n",
       "    </tr>\n",
       "    <tr>\n",
       "      <th>2</th>\n",
       "      <td>0.000000</td>\n",
       "      <td>0.533101</td>\n",
       "      <td>1.000000</td>\n",
       "      <td>0.319902</td>\n",
       "      <td>0.502377</td>\n",
       "      <td>-0.605582</td>\n",
       "    </tr>\n",
       "    <tr>\n",
       "      <th>3</th>\n",
       "      <td>0.000000</td>\n",
       "      <td>0.133631</td>\n",
       "      <td>0.319902</td>\n",
       "      <td>1.000000</td>\n",
       "      <td>0.476731</td>\n",
       "      <td>-0.021394</td>\n",
       "    </tr>\n",
       "    <tr>\n",
       "      <th>4</th>\n",
       "      <td>0.753778</td>\n",
       "      <td>-0.382235</td>\n",
       "      <td>0.502377</td>\n",
       "      <td>0.476731</td>\n",
       "      <td>1.000000</td>\n",
       "      <td>0.213420</td>\n",
       "    </tr>\n",
       "    <tr>\n",
       "      <th>5</th>\n",
       "      <td>0.370578</td>\n",
       "      <td>-0.643118</td>\n",
       "      <td>-0.605582</td>\n",
       "      <td>-0.021394</td>\n",
       "      <td>0.213420</td>\n",
       "      <td>1.000000</td>\n",
       "    </tr>\n",
       "  </tbody>\n",
       "</table>\n",
       "</div>"
      ],
      "text/plain": [
       "          0         1         2         3         4         5\n",
       "0  1.000000 -0.845154  0.000000  0.000000  0.753778  0.370578\n",
       "1 -0.845154  1.000000  0.533101  0.133631 -0.382235 -0.643118\n",
       "2  0.000000  0.533101  1.000000  0.319902  0.502377 -0.605582\n",
       "3  0.000000  0.133631  0.319902  1.000000  0.476731 -0.021394\n",
       "4  0.753778 -0.382235  0.502377  0.476731  1.000000  0.213420\n",
       "5  0.370578 -0.643118 -0.605582 -0.021394  0.213420  1.000000"
      ]
     },
     "execution_count": 4,
     "metadata": {},
     "output_type": "execute_result"
    }
   ],
   "source": [
    "corr_example = TrackONautsStats.pairwise_correlation(example_dataframe1)\n",
    "corr_example.head(6)"
   ]
  },
  {
   "cell_type": "code",
   "execution_count": 5,
   "id": "3816ff74-f93b-4518-a626-89eb8d9d9484",
   "metadata": {},
   "outputs": [
    {
     "data": {
      "text/html": [
       "<div>\n",
       "<style scoped>\n",
       "    .dataframe tbody tr th:only-of-type {\n",
       "        vertical-align: middle;\n",
       "    }\n",
       "\n",
       "    .dataframe tbody tr th {\n",
       "        vertical-align: top;\n",
       "    }\n",
       "\n",
       "    .dataframe thead th {\n",
       "        text-align: right;\n",
       "    }\n",
       "</style>\n",
       "<table border=\"1\" class=\"dataframe\">\n",
       "  <thead>\n",
       "    <tr style=\"text-align: right;\">\n",
       "      <th></th>\n",
       "      <th>mean</th>\n",
       "      <th>median</th>\n",
       "      <th>maximum</th>\n",
       "      <th>minimum</th>\n",
       "      <th>variance</th>\n",
       "      <th>standard deviation</th>\n",
       "    </tr>\n",
       "  </thead>\n",
       "  <tbody>\n",
       "    <tr>\n",
       "      <th>alpha</th>\n",
       "      <td>0.138333</td>\n",
       "      <td>0.415</td>\n",
       "      <td>1.0</td>\n",
       "      <td>-1.0</td>\n",
       "      <td>0.848817</td>\n",
       "      <td>0.921312</td>\n",
       "    </tr>\n",
       "  </tbody>\n",
       "</table>\n",
       "</div>"
      ],
      "text/plain": [
       "           mean  median  maximum  minimum  variance  standard deviation\n",
       "alpha  0.138333   0.415      1.0     -1.0  0.848817            0.921312"
      ]
     },
     "execution_count": 5,
     "metadata": {},
     "output_type": "execute_result"
    }
   ],
   "source": [
    "d_stats_example1 = TrackONautsStats.feature_descriptive_statistics(example_dataframe1, [\"alpha\"])\n",
    "d_stats_example1.head(6)"
   ]
  },
  {
   "cell_type": "code",
   "execution_count": 14,
   "id": "f701f187-db59-45e3-a574-a0edac614a29",
   "metadata": {},
   "outputs": [
    {
     "data": {
      "text/plain": [
       "dtype('float64')"
      ]
     },
     "execution_count": 14,
     "metadata": {},
     "output_type": "execute_result"
    }
   ],
   "source": [
    "d_stats_example1.iloc[0].dtype"
   ]
  },
  {
   "cell_type": "code",
   "execution_count": 6,
   "id": "6a3cb3d9-2cd1-42c0-ab03-984b968c1c27",
   "metadata": {},
   "outputs": [
    {
     "data": {
      "text/html": [
       "<div>\n",
       "<style scoped>\n",
       "    .dataframe tbody tr th:only-of-type {\n",
       "        vertical-align: middle;\n",
       "    }\n",
       "\n",
       "    .dataframe tbody tr th {\n",
       "        vertical-align: top;\n",
       "    }\n",
       "\n",
       "    .dataframe thead th {\n",
       "        text-align: right;\n",
       "    }\n",
       "</style>\n",
       "<table border=\"1\" class=\"dataframe\">\n",
       "  <thead>\n",
       "    <tr style=\"text-align: right;\">\n",
       "      <th></th>\n",
       "      <th>mean</th>\n",
       "      <th>median</th>\n",
       "      <th>maximum</th>\n",
       "      <th>minimum</th>\n",
       "      <th>variance</th>\n",
       "      <th>standard deviation</th>\n",
       "    </tr>\n",
       "  </thead>\n",
       "  <tbody>\n",
       "    <tr>\n",
       "      <th>alpha</th>\n",
       "      <td>0.138333</td>\n",
       "      <td>0.415</td>\n",
       "      <td>1.0</td>\n",
       "      <td>-1.0</td>\n",
       "      <td>0.848817</td>\n",
       "      <td>0.921312</td>\n",
       "    </tr>\n",
       "    <tr>\n",
       "      <th>D_fit</th>\n",
       "      <td>2.083333</td>\n",
       "      <td>0.750</td>\n",
       "      <td>8.0</td>\n",
       "      <td>0.0</td>\n",
       "      <td>9.641667</td>\n",
       "      <td>3.105103</td>\n",
       "    </tr>\n",
       "    <tr>\n",
       "      <th>asymmetry1</th>\n",
       "      <td>1.583333</td>\n",
       "      <td>1.000</td>\n",
       "      <td>4.0</td>\n",
       "      <td>-1.0</td>\n",
       "      <td>4.041667</td>\n",
       "      <td>2.010390</td>\n",
       "    </tr>\n",
       "    <tr>\n",
       "      <th>Deff1</th>\n",
       "      <td>0.333333</td>\n",
       "      <td>0.000</td>\n",
       "      <td>3.0</td>\n",
       "      <td>-1.0</td>\n",
       "      <td>1.866667</td>\n",
       "      <td>1.366260</td>\n",
       "    </tr>\n",
       "    <tr>\n",
       "      <th>AR</th>\n",
       "      <td>2.000000</td>\n",
       "      <td>1.000</td>\n",
       "      <td>7.0</td>\n",
       "      <td>-1.0</td>\n",
       "      <td>8.800000</td>\n",
       "      <td>2.966479</td>\n",
       "    </tr>\n",
       "  </tbody>\n",
       "</table>\n",
       "</div>"
      ],
      "text/plain": [
       "                mean  median  maximum  minimum  variance  standard deviation\n",
       "alpha       0.138333   0.415      1.0     -1.0  0.848817            0.921312\n",
       "D_fit       2.083333   0.750      8.0      0.0  9.641667            3.105103\n",
       "asymmetry1  1.583333   1.000      4.0     -1.0  4.041667            2.010390\n",
       "Deff1       0.333333   0.000      3.0     -1.0  1.866667            1.366260\n",
       "AR          2.000000   1.000      7.0     -1.0  8.800000            2.966479"
      ]
     },
     "execution_count": 6,
     "metadata": {},
     "output_type": "execute_result"
    }
   ],
   "source": [
    "d_stats_example1 = TrackONautsStats.feature_descriptive_statistics(example_dataframe1, \"all_features\")\n",
    "d_stats_example1.head(6)"
   ]
  },
  {
   "cell_type": "code",
   "execution_count": 7,
   "id": "aa194478-b768-4a6a-847d-8ddb618c4d9d",
   "metadata": {},
   "outputs": [
    {
     "name": "stdout",
     "output_type": "stream",
     "text": [
      "{'example1':            mean  median  maximum  minimum  variance  standard deviation\n",
      "alpha  0.138333   0.415      1.0     -1.0  0.848817            0.921312\n",
      "D_fit  2.083333   0.750      8.0      0.0  9.641667            3.105103, 'example2':            mean  median  maximum  minimum  variance  standard deviation\n",
      "alpha  0.105000   0.315      1.0     -1.0  0.826550            0.909148\n",
      "D_fit  2.083333   0.750      8.0      0.0  9.641667            3.105103}\n"
     ]
    }
   ],
   "source": [
    "multi_d_stats_example1 = TrackONautsStats.multi_df_feat_descriptive_statistics(dataframe_dict, [\"alpha\",\"D_fit\"])\n",
    "print(multi_d_stats_example1)"
   ]
  },
  {
   "cell_type": "code",
   "execution_count": 8,
   "id": "b1119015-2103-4200-b82f-2b0c8eb6b443",
   "metadata": {},
   "outputs": [
    {
     "name": "stdout",
     "output_type": "stream",
     "text": [
      "{'example1':                 mean  median  maximum  minimum  variance  standard deviation\n",
      "alpha       0.138333   0.415      1.0     -1.0  0.848817            0.921312\n",
      "D_fit       2.083333   0.750      8.0      0.0  9.641667            3.105103\n",
      "asymmetry1  1.583333   1.000      4.0     -1.0  4.041667            2.010390\n",
      "Deff1       0.333333   0.000      3.0     -1.0  1.866667            1.366260\n",
      "AR          2.000000   1.000      7.0     -1.0  8.800000            2.966479, 'example2':                 mean  median  maximum  minimum   variance  standard deviation\n",
      "alpha       0.105000   0.315      1.0     -1.0   0.826550            0.909148\n",
      "D_fit       2.083333   0.750      8.0      0.0   9.641667            3.105103\n",
      "asymmetry1  1.750000   1.000      5.0     -1.0   5.175000            2.274863\n",
      "Deff1       0.833333   0.500      3.0     -1.0   2.166667            1.471960\n",
      "AR          3.000000   3.000      7.0     -2.0  11.200000            3.346640}\n"
     ]
    }
   ],
   "source": [
    "multi_d_stats_example2 = TrackONautsStats.multi_df_feat_descriptive_statistics(dataframe_dict, \"all_features\")\n",
    "print(multi_d_stats_example2)"
   ]
  },
  {
   "cell_type": "code",
   "execution_count": 9,
   "id": "4d9600bc-e951-45bb-a36a-aa775f1aa07a",
   "metadata": {},
   "outputs": [
    {
     "name": "stdout",
     "output_type": "stream",
     "text": [
      "{'alpha outliers above': [], 'alpha outliers below': [], 'D_fit outliers above': [8.0], 'D_fit outliers below': [], 'asymmetry1 outliers above': [], 'asymmetry1 outliers below': [], 'Deff1 outliers above': [0.0, 0.0, 0.0, 0.0, 3.0], 'Deff1 outliers below': [0.0, 0.0, 0.0, -1.0, 0.0], 'AR outliers above': [7.0], 'AR outliers below': []}\n"
     ]
    }
   ],
   "source": [
    "outliers_example1 = TrackONautsStats.feature_outliers(example_dataframe1, \"all_features\", \"IQR\")\n",
    "print(outliers_example1)"
   ]
  },
  {
   "cell_type": "code",
   "execution_count": 10,
   "id": "62b16550-f285-47d0-8867-88018922d1d0",
   "metadata": {},
   "outputs": [
    {
     "name": "stdin",
     "output_type": "stream",
     "text": [
      "Enter desired multiplier: 3\n"
     ]
    },
    {
     "name": "stdout",
     "output_type": "stream",
     "text": [
      "{'alpha outliers above': [], 'alpha outliers below': [], 'D_fit outliers above': [], 'D_fit outliers below': [], 'asymmetry1 outliers above': [], 'asymmetry1 outliers below': [], 'Deff1 outliers above': [], 'Deff1 outliers below': [], 'AR outliers above': [], 'AR outliers below': []}\n"
     ]
    }
   ],
   "source": [
    "outliers_example2 = TrackONautsStats.feature_outliers(example_dataframe1, \"all_features\", \"STD multiplier\")\n",
    "print(outliers_example2)"
   ]
  },
  {
   "cell_type": "code",
   "execution_count": 11,
   "id": "966c5a03-5cd5-4a28-a6a5-b13dee660b90",
   "metadata": {},
   "outputs": [
    {
     "name": "stdin",
     "output_type": "stream",
     "text": [
      "Enter the multiplier you want to use: 3\n"
     ]
    },
    {
     "name": "stdout",
     "output_type": "stream",
     "text": [
      "{'alpha outliers above': [], 'alpha outliers below': [], 'D_fit outliers above': [], 'D_fit outliers below': [], 'AR outliers above': [], 'AR outliers below': []}\n"
     ]
    }
   ],
   "source": [
    "outliers_example3 = TrackONautsStats.feature_outliers(example_dataframe2, [\"alpha\",\"D_fit\",\"AR\"], \"STD multiplier\")\n",
    "print(outliers_example3)"
   ]
  },
  {
   "cell_type": "code",
   "execution_count": 12,
   "id": "652bd354-3482-4f84-af40-43ffe3a59bb5",
   "metadata": {},
   "outputs": [
    {
     "name": "stdout",
     "output_type": "stream",
     "text": [
      "{'alpha outliers above': [], 'alpha outliers below': [], 'D_fit outliers above': [8.0], 'D_fit outliers below': [], 'AR outliers above': [], 'AR outliers below': []}\n"
     ]
    }
   ],
   "source": [
    "outliers_example4 = TrackONautsStats.feature_outliers(example_dataframe2, [\"alpha\",\"D_fit\",\"AR\"], \"IQR\")\n",
    "print(outliers_example4)"
   ]
  }
 ],
 "metadata": {
  "kernelspec": {
   "display_name": "Python 3 (ipykernel)",
   "language": "python",
   "name": "python3"
  },
  "language_info": {
   "codemirror_mode": {
    "name": "ipython",
    "version": 3
   },
   "file_extension": ".py",
   "mimetype": "text/x-python",
   "name": "python",
   "nbconvert_exporter": "python",
   "pygments_lexer": "ipython3",
   "version": "3.11.5"
  }
 },
 "nbformat": 4,
 "nbformat_minor": 5
}
