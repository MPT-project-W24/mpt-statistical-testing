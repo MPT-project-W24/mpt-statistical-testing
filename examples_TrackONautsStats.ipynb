{
 "cells": [
  {
   "cell_type": "code",
   "execution_count": 9,
   "id": "abbe54d9-d183-484d-ac45-8e15815172dc",
   "metadata": {},
   "outputs": [],
   "source": [
    "import pandas as pd\n",
    "\n",
    "from track_o_nauts import TrackONautsStats\n",
    "\n",
    "\n",
    "example_dataframe1 = pd.DataFrame([[-1,0,1,0,0],[1,0,-1,0,1],[0.5,0.5,0.5,0,7],\n",
    "                                    [1,1,1,-1,1],[-1,3,4,0,4],[0.33,8,4,3,-1]],\n",
    "                                    columns=[\"alpha\",\"D_fit\",\"asymmetry1\",\"Deff1\",\"AR\"])\n",
    "example_dataframe2 = pd.DataFrame([[-1,0,1,0,2],[1,0,-1,1,6],[0.3,0.5,0.5,0,7],\n",
    "                                    [1,1,1,-1,1],[-1,3,5,2,4],[0.33,8,4,3,-2]],\n",
    "                                    columns=[\"alpha\",\"D_fit\",\"asymmetry1\",\"Deff1\",\"AR\"])\n",
    "dataframe_dict = {\"example1\" : example_dataframe1, \"example2\" : example_dataframe2}"
   ]
  },
  {
   "cell_type": "code",
   "execution_count": 2,
   "id": "2f2c413e-01bd-4efe-b451-4a10734817ec",
   "metadata": {},
   "outputs": [
    {
     "data": {
      "text/html": [
       "<div>\n",
       "<style scoped>\n",
       "    .dataframe tbody tr th:only-of-type {\n",
       "        vertical-align: middle;\n",
       "    }\n",
       "\n",
       "    .dataframe tbody tr th {\n",
       "        vertical-align: top;\n",
       "    }\n",
       "\n",
       "    .dataframe thead th {\n",
       "        text-align: right;\n",
       "    }\n",
       "</style>\n",
       "<table border=\"1\" class=\"dataframe\">\n",
       "  <thead>\n",
       "    <tr style=\"text-align: right;\">\n",
       "      <th></th>\n",
       "      <th>alpha</th>\n",
       "      <th>D_fit</th>\n",
       "      <th>asymmetry1</th>\n",
       "      <th>Deff1</th>\n",
       "      <th>AR</th>\n",
       "    </tr>\n",
       "  </thead>\n",
       "  <tbody>\n",
       "    <tr>\n",
       "      <th>0</th>\n",
       "      <td>-1.00</td>\n",
       "      <td>0.0</td>\n",
       "      <td>1.0</td>\n",
       "      <td>0</td>\n",
       "      <td>0</td>\n",
       "    </tr>\n",
       "    <tr>\n",
       "      <th>1</th>\n",
       "      <td>1.00</td>\n",
       "      <td>0.0</td>\n",
       "      <td>-1.0</td>\n",
       "      <td>0</td>\n",
       "      <td>1</td>\n",
       "    </tr>\n",
       "    <tr>\n",
       "      <th>2</th>\n",
       "      <td>0.50</td>\n",
       "      <td>0.5</td>\n",
       "      <td>0.5</td>\n",
       "      <td>0</td>\n",
       "      <td>7</td>\n",
       "    </tr>\n",
       "    <tr>\n",
       "      <th>3</th>\n",
       "      <td>1.00</td>\n",
       "      <td>1.0</td>\n",
       "      <td>1.0</td>\n",
       "      <td>-1</td>\n",
       "      <td>1</td>\n",
       "    </tr>\n",
       "    <tr>\n",
       "      <th>4</th>\n",
       "      <td>-1.00</td>\n",
       "      <td>3.0</td>\n",
       "      <td>4.0</td>\n",
       "      <td>0</td>\n",
       "      <td>4</td>\n",
       "    </tr>\n",
       "    <tr>\n",
       "      <th>5</th>\n",
       "      <td>0.33</td>\n",
       "      <td>8.0</td>\n",
       "      <td>4.0</td>\n",
       "      <td>3</td>\n",
       "      <td>-1</td>\n",
       "    </tr>\n",
       "  </tbody>\n",
       "</table>\n",
       "</div>"
      ],
      "text/plain": [
       "   alpha  D_fit  asymmetry1  Deff1  AR\n",
       "0  -1.00    0.0         1.0      0   0\n",
       "1   1.00    0.0        -1.0      0   1\n",
       "2   0.50    0.5         0.5      0   7\n",
       "3   1.00    1.0         1.0     -1   1\n",
       "4  -1.00    3.0         4.0      0   4\n",
       "5   0.33    8.0         4.0      3  -1"
      ]
     },
     "execution_count": 2,
     "metadata": {},
     "output_type": "execute_result"
    }
   ],
   "source": [
    "example_dataframe1.head(6)"
   ]
  },
  {
   "cell_type": "code",
   "execution_count": 3,
   "id": "6d2f02c3-7d66-47b4-886f-7db3a71d8b92",
   "metadata": {},
   "outputs": [
    {
     "data": {
      "text/html": [
       "<div>\n",
       "<style scoped>\n",
       "    .dataframe tbody tr th:only-of-type {\n",
       "        vertical-align: middle;\n",
       "    }\n",
       "\n",
       "    .dataframe tbody tr th {\n",
       "        vertical-align: top;\n",
       "    }\n",
       "\n",
       "    .dataframe thead th {\n",
       "        text-align: right;\n",
       "    }\n",
       "</style>\n",
       "<table border=\"1\" class=\"dataframe\">\n",
       "  <thead>\n",
       "    <tr style=\"text-align: right;\">\n",
       "      <th></th>\n",
       "      <th>alpha</th>\n",
       "      <th>D_fit</th>\n",
       "      <th>asymmetry1</th>\n",
       "      <th>Deff1</th>\n",
       "      <th>AR</th>\n",
       "    </tr>\n",
       "  </thead>\n",
       "  <tbody>\n",
       "    <tr>\n",
       "      <th>0</th>\n",
       "      <td>-1.00</td>\n",
       "      <td>0.0</td>\n",
       "      <td>1.0</td>\n",
       "      <td>0</td>\n",
       "      <td>2</td>\n",
       "    </tr>\n",
       "    <tr>\n",
       "      <th>1</th>\n",
       "      <td>1.00</td>\n",
       "      <td>0.0</td>\n",
       "      <td>-1.0</td>\n",
       "      <td>1</td>\n",
       "      <td>6</td>\n",
       "    </tr>\n",
       "    <tr>\n",
       "      <th>2</th>\n",
       "      <td>0.30</td>\n",
       "      <td>0.5</td>\n",
       "      <td>0.5</td>\n",
       "      <td>0</td>\n",
       "      <td>7</td>\n",
       "    </tr>\n",
       "    <tr>\n",
       "      <th>3</th>\n",
       "      <td>1.00</td>\n",
       "      <td>1.0</td>\n",
       "      <td>1.0</td>\n",
       "      <td>-1</td>\n",
       "      <td>1</td>\n",
       "    </tr>\n",
       "    <tr>\n",
       "      <th>4</th>\n",
       "      <td>-1.00</td>\n",
       "      <td>3.0</td>\n",
       "      <td>5.0</td>\n",
       "      <td>2</td>\n",
       "      <td>4</td>\n",
       "    </tr>\n",
       "    <tr>\n",
       "      <th>5</th>\n",
       "      <td>0.33</td>\n",
       "      <td>8.0</td>\n",
       "      <td>4.0</td>\n",
       "      <td>3</td>\n",
       "      <td>-2</td>\n",
       "    </tr>\n",
       "  </tbody>\n",
       "</table>\n",
       "</div>"
      ],
      "text/plain": [
       "   alpha  D_fit  asymmetry1  Deff1  AR\n",
       "0  -1.00    0.0         1.0      0   2\n",
       "1   1.00    0.0        -1.0      1   6\n",
       "2   0.30    0.5         0.5      0   7\n",
       "3   1.00    1.0         1.0     -1   1\n",
       "4  -1.00    3.0         5.0      2   4\n",
       "5   0.33    8.0         4.0      3  -2"
      ]
     },
     "execution_count": 3,
     "metadata": {},
     "output_type": "execute_result"
    }
   ],
   "source": [
    "example_dataframe2.head(6)"
   ]
  },
  {
   "cell_type": "code",
   "execution_count": 1,
   "id": "dfbe9565-649d-4dc1-ab83-53c44e5606da",
   "metadata": {},
   "outputs": [
    {
     "ename": "NameError",
     "evalue": "name 'TrackONautsStats' is not defined",
     "output_type": "error",
     "traceback": [
      "\u001b[0;31m---------------------------------------------------------------------------\u001b[0m",
      "\u001b[0;31mNameError\u001b[0m                                 Traceback (most recent call last)",
      "Cell \u001b[0;32mIn[1], line 1\u001b[0m\n\u001b[0;32m----> 1\u001b[0m corr_example \u001b[38;5;241m=\u001b[39m TrackONautsStats\u001b[38;5;241m.\u001b[39mpairwise_correlation(example_dataframe1)\n\u001b[1;32m      2\u001b[0m corr_example\u001b[38;5;241m.\u001b[39mhead(\u001b[38;5;241m6\u001b[39m)\n",
      "\u001b[0;31mNameError\u001b[0m: name 'TrackONautsStats' is not defined"
     ]
    }
   ],
   "source": [
    "corr_example = TrackONautsStats.pairwise_correlation(example_dataframe1)\n",
    "corr_example.head(6)"
   ]
  },
  {
   "cell_type": "code",
   "execution_count": null,
   "id": "3816ff74-f93b-4518-a626-89eb8d9d9484",
   "metadata": {},
   "outputs": [],
   "source": [
    "d_stats_example1 = TrackONautsStats.feature_descriptive_stats(example_dataframe1, [\"alpha\",\"D_fit\"])\n",
    "d_stats_example1.head(6)"
   ]
  },
  {
   "cell_type": "code",
   "execution_count": null,
   "id": "6a3cb3d9-2cd1-42c0-ab03-984b968c1c27",
   "metadata": {},
   "outputs": [],
   "source": [
    "d_stats_example1 = TrackONautsStats.feature_descriptive_stats(example_dataframe1, \"all_features\")\n",
    "d_stats_example1.head(6)"
   ]
  },
  {
   "cell_type": "code",
   "execution_count": null,
   "id": "aa194478-b768-4a6a-847d-8ddb618c4d9d",
   "metadata": {},
   "outputs": [],
   "source": [
    "multi_d_stats_example1 = TrackONautsStats.multi_df_feat_descriptive_statistics(dataframe_dict, [\"alpha\",\"D_fit\"])"
   ]
  },
  {
   "cell_type": "code",
   "execution_count": null,
   "id": "b1119015-2103-4200-b82f-2b0c8eb6b443",
   "metadata": {},
   "outputs": [],
   "source": [
    "multi_d_stats_example2 = TrackONautsStats.multi_df_feat_descriptive_statistics(dataframe_dict, \"all_features\")"
   ]
  },
  {
   "cell_type": "code",
   "execution_count": null,
   "id": "4d9600bc-e951-45bb-a36a-aa775f1aa07a",
   "metadata": {},
   "outputs": [],
   "source": [
    "outliers_example1 = TrackONautsStats.feature_outliers(example_dataframe1, \"all_features\", \"IQR\")"
   ]
  },
  {
   "cell_type": "code",
   "execution_count": null,
   "id": "62b16550-f285-47d0-8867-88018922d1d0",
   "metadata": {},
   "outputs": [],
   "source": [
    "outliers_example2 = TrackONautsStats.feature_outliers(example_dataframe1, \"all_features\", \"STD multiplier\")"
   ]
  },
  {
   "cell_type": "code",
   "execution_count": null,
   "id": "966c5a03-5cd5-4a28-a6a5-b13dee660b90",
   "metadata": {},
   "outputs": [],
   "source": [
    "outliers_example3 = TrackONautsStats.feature_outliers(example_dataframe2, [\"alpha\",\"D_fit\",\"AR\"], \"STD multiplier\")"
   ]
  },
  {
   "cell_type": "code",
   "execution_count": null,
   "id": "652bd354-3482-4f84-af40-43ffe3a59bb5",
   "metadata": {},
   "outputs": [],
   "source": [
    "outliers_example3 = TrackONautsStats.feature_outliers(example_dataframe2, [\"alpha\",\"D_fit\",\"AR\"], \"IQR\")"
   ]
  }
 ],
 "metadata": {
  "kernelspec": {
   "display_name": "Python 3 (ipykernel)",
   "language": "python",
   "name": "python3"
  },
  "language_info": {
   "codemirror_mode": {
    "name": "ipython",
    "version": 3
   },
   "file_extension": ".py",
   "mimetype": "text/x-python",
   "name": "python",
   "nbconvert_exporter": "python",
   "pygments_lexer": "ipython3",
   "version": "3.11.5"
  }
 },
 "nbformat": 4,
 "nbformat_minor": 5
}
